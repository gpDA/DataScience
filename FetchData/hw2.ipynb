{
 "cells": [
  {
   "cell_type": "code",
   "execution_count": 6,
   "metadata": {},
   "outputs": [
    {
     "name": "stdout",
     "output_type": "stream",
     "text": [
      "<requests_oauthlib.oauth1_auth.OAuth1 object at 0x7f27fc01f240>\n"
     ]
    }
   ],
   "source": [
    "import requests\n",
    "from requests_oauthlib import OAuth1\n",
    "\n",
    "import json\n",
    "\n",
    "consumer_key = 'UCtyu2vxdx4M0XVyNc55JpbHZ'\n",
    "consumer_secret = 'bbMoGKMviomJji2kNv5KjTm3jpShzZ1RS38gtBbrbC0U0mG5aB'\n",
    "access_token = '902952608071114754-06K4FgECk6fk2IPeoA5JvN03GOUHJ6b'\n",
    "access_secret = 'xWFHxIp6rq9MZVsWQnuvzeM8rAUSeiu1xvi514u3pzucn'\n",
    "\n",
    "auth = OAuth1(consumer_key, consumer_secret, access_token, access_secret)\n",
    "print(auth)"
   ]
  },
  {
   "cell_type": "code",
   "execution_count": 7,
   "metadata": {},
   "outputs": [
    {
     "name": "stdout",
     "output_type": "stream",
     "text": [
      "<Client client_key=UCtyu2vxdx4M0XVyNc55JpbHZ, client_secret=****, resource_owner_key=902952608071114754-06K4FgECk6fk2IPeoA5JvN03GOUHJ6b, resource_owner_secret=****, signature_method=HMAC-SHA1, signature_type=AUTH_HEADER, callback_uri=None, rsa_key=None, verifier=None, realm=None, encoding=utf-8, decoding=utf-8, nonce=None, timestamp=None>\n"
     ]
    }
   ],
   "source": [
    "print(auth.client)"
   ]
  },
  {
   "cell_type": "code",
   "execution_count": 8,
   "metadata": {},
   "outputs": [
    {
     "name": "stdout",
     "output_type": "stream",
     "text": [
      "<Response [200]> 200 application/json;charset=utf-8\n"
     ]
    }
   ],
   "source": [
    "import urllib\n",
    "\n",
    "url_2 = 'https://api.twitter.com/1.1/search/tweets.json'\n",
    "params = {\n",
    "    \"count\": 10, \n",
    "    \"lang\": 'en',\n",
    "    \"q\": '%23nyu'\n",
    "}\n",
    "\n",
    "res = requests.get(url_2, auth=auth, params=params)\n",
    "\n",
    "print(res, res.status_code, res.headers['content-type'])\n",
    "\n",
    "tweets = res.json()\n",
    "\n",
    "dic = {}\n",
    "result = []\n",
    "\n",
    "for num, tweet in enumerate(tweets['statuses']):\n",
    "    dic={'username': tweet['user']['name'],\n",
    "        'screen_name': tweet['user']['screen_name'],\n",
    "        'text': tweet['text'],\n",
    "        'location':tweet['user']['location']}\n",
    "    result.append(dic)\n",
    "#print(result)\n",
    "#print(len(result))"
   ]
  },
  {
   "cell_type": "code",
   "execution_count": 12,
   "metadata": {},
   "outputs": [
    {
     "name": "stderr",
     "output_type": "stream",
     "text": [
      "/usr/local/lib/python3.6/dist-packages/sqlalchemy/engine/default.py:508: Warning: (1007, \"Can't create database 'twit'; database exists\")\n",
      "  cursor.execute(statement, parameters)\n"
     ]
    },
    {
     "data": {
      "text/plain": [
       "<sqlalchemy.engine.result.ResultProxy at 0x7f27ef6215c0>"
      ]
     },
     "execution_count": 12,
     "metadata": {},
     "output_type": "execute_result"
    }
   ],
   "source": [
    "##IF not mySQLdb is not installed\n",
    "\n",
    "# PANOS: Please use SQL Alchemy as in 2/G3 notebook. \n",
    "# PANOS: Please use your actual MySQL database. The one on 127.0.0.1 is not usable\n",
    "#import MySQLdb as mdb\n",
    "\n",
    "#con = mdb.connect(host= '127.0.0.1',\n",
    "#                 user = 'root',\n",
    "#                 passwd = '',\n",
    "#                 charset='utf8', use_unicode=True)\n",
    "from sqlalchemy import create_engine\n",
    "con = 'mysql://{user}:{password}@{host}/?charset=utf8mb4'.format(\n",
    "    host = '35.237.137.195', \n",
    "    user = 'root',\n",
    "    password = 'cNJ82xfyqM68LmA1',\n",
    "    encoding = 'utf8mb4')\n",
    "engine = create_engine(con)\n",
    "con = engine.connect()\n",
    "\n",
    "# Query to create a database\n",
    "db_name = 'twit'\n",
    "create_db_query = \"CREATE DATABASE IF NOT EXISTS {db} DEFAULT CHARACTER SET 'utf8'\".format(db=db_name)\n",
    "\n",
    "# Create a database\n",
    "#cursor = con.cursor()\n",
    "#cursor.execute(create_db_query)\n",
    "#cursor.close()\n",
    "engine.execute(create_db_query)\n",
    "engine.execute(\"USE {db}\".format(db=db_name))"
   ]
  },
  {
   "cell_type": "code",
   "execution_count": 22,
   "metadata": {},
   "outputs": [
    {
     "name": "stderr",
     "output_type": "stream",
     "text": [
      "/usr/local/lib/python3.6/dist-packages/sqlalchemy/engine/default.py:508: Warning: (1050, \"Table 'tweets' already exists\")\n",
      "  cursor.execute(statement, parameters)\n"
     ]
    },
    {
     "data": {
      "text/plain": [
       "<sqlalchemy.engine.result.ResultProxy at 0x7f27ef67c3c8>"
      ]
     },
     "execution_count": 22,
     "metadata": {},
     "output_type": "execute_result"
    }
   ],
   "source": [
    "table_name = 'tweets'\n",
    "\n",
    "# Create a table\n",
    "# The {db} and {table} are placeholders for the parameters in the format(....) statement\n",
    "create_table_query = '''CREATE TABLE IF NOT EXISTS {db}.{table} \n",
    "                                (tweet_id int, \n",
    "                                name varchar(250), \n",
    "                                screen_name varchar(250), \n",
    "                                text varchar(250), \n",
    "                                location varchar(250), \n",
    "                                PRIMARY KEY(tweet_id)\n",
    "                                )'''.format(db=db_name, table=table_name)\n",
    "#CHANGE CHARSET TO utf8mb4\n",
    "change_charset = '''ALTER TABLE {db}.{table} \n",
    "                    CHANGE text text VARCHAR(250), \n",
    "                    CHANGE name name VARCHAR(250),                    \n",
    "                    CHARACTER SET utf8mb4 COLLATE utf8mb4_unicode_ci;'''.format(db=db_name, table=table_name)\n",
    "\n",
    "engine.execute(change_charset)    \n",
    "engine.execute(create_table_query)"
   ]
  },
  {
   "cell_type": "code",
   "execution_count": 23,
   "metadata": {},
   "outputs": [],
   "source": [
    "query_template = '''INSERT INTO {db}.{table}(\n",
    "                                            tweet_id,\n",
    "                                            name, \n",
    "                                            screen_name, \n",
    "                                            text, \n",
    "                                            location) \n",
    "                    VALUES (%s, %s, %s, %s, %s)'''.format(db=db_name, table=table_name)\n",
    "\n",
    "for num, entry in enumerate(result):\n",
    "    tweet_id = num\n",
    "    name = entry[\"username\"]\n",
    "    screenName = entry[\"screen_name\"]\n",
    "    text = entry[\"text\"]\n",
    "    location = entry[\"location\"]\n",
    "    \n",
    "    query_parameters = (tweet_id, name, screenName, text, location)\n",
    "    engine.execute(query_template, query_parameters)\n"
   ]
  },
  {
   "cell_type": "code",
   "execution_count": null,
   "metadata": {
    "collapsed": true
   },
   "outputs": [],
   "source": []
  },
  {
   "cell_type": "code",
   "execution_count": null,
   "metadata": {
    "collapsed": true
   },
   "outputs": [],
   "source": []
  }
 ],
 "metadata": {
  "kernelspec": {
   "display_name": "Python 3",
   "language": "python",
   "name": "python3"
  },
  "language_info": {
   "codemirror_mode": {
    "name": "ipython",
    "version": 3
   },
   "file_extension": ".py",
   "mimetype": "text/x-python",
   "name": "python",
   "nbconvert_exporter": "python",
   "pygments_lexer": "ipython3",
   "version": "3.6.5"
  }
 },
 "nbformat": 4,
 "nbformat_minor": 2
}
